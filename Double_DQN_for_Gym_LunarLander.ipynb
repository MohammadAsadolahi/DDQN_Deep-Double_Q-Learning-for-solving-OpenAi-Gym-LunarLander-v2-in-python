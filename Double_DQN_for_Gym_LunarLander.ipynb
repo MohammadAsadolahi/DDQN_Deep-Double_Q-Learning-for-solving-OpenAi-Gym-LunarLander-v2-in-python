{
  "cells": [
    {
      "cell_type": "code",
      "execution_count": 13,
      "metadata": {
        "id": "8x-y8DACYp0A"
      },
      "outputs": [],
      "source": [
        "import numpy as np\n",
        "import gym\n",
        "from keras.layers import Dense, Activation\n",
        "from keras.models import Sequential, load_model\n",
        "import keras\n",
        "import tensorflow as tf\n",
        "import numpy as np\n",
        "import matplotlib.pyplot as plt"
      ]
    },
    {
      "cell_type": "code",
      "execution_count": 2,
      "metadata": {
        "colab": {
          "base_uri": "https://localhost:8080/"
        },
        "id": "NY4U5CiFZm_T",
        "outputId": "754304f0-6626-4c3f-a91d-bd566fc9f9c9"
      },
      "outputs": [
        {
          "output_type": "stream",
          "name": "stdout",
          "text": [
            "Collecting box2d-py\n",
            "  Downloading box2d_py-2.3.8-cp37-cp37m-manylinux1_x86_64.whl (448 kB)\n",
            "\u001b[?25l\r\u001b[K     |▊                               | 10 kB 20.9 MB/s eta 0:00:01\r\u001b[K     |█▌                              | 20 kB 26.7 MB/s eta 0:00:01\r\u001b[K     |██▏                             | 30 kB 30.7 MB/s eta 0:00:01\r\u001b[K     |███                             | 40 kB 19.0 MB/s eta 0:00:01\r\u001b[K     |███▋                            | 51 kB 8.1 MB/s eta 0:00:01\r\u001b[K     |████▍                           | 61 kB 9.4 MB/s eta 0:00:01\r\u001b[K     |█████▏                          | 71 kB 8.3 MB/s eta 0:00:01\r\u001b[K     |█████▉                          | 81 kB 9.1 MB/s eta 0:00:01\r\u001b[K     |██████▋                         | 92 kB 10.0 MB/s eta 0:00:01\r\u001b[K     |███████▎                        | 102 kB 8.7 MB/s eta 0:00:01\r\u001b[K     |████████                        | 112 kB 8.7 MB/s eta 0:00:01\r\u001b[K     |████████▊                       | 122 kB 8.7 MB/s eta 0:00:01\r\u001b[K     |█████████▌                      | 133 kB 8.7 MB/s eta 0:00:01\r\u001b[K     |██████████▎                     | 143 kB 8.7 MB/s eta 0:00:01\r\u001b[K     |███████████                     | 153 kB 8.7 MB/s eta 0:00:01\r\u001b[K     |███████████▊                    | 163 kB 8.7 MB/s eta 0:00:01\r\u001b[K     |████████████▍                   | 174 kB 8.7 MB/s eta 0:00:01\r\u001b[K     |█████████████▏                  | 184 kB 8.7 MB/s eta 0:00:01\r\u001b[K     |█████████████▉                  | 194 kB 8.7 MB/s eta 0:00:01\r\u001b[K     |██████████████▋                 | 204 kB 8.7 MB/s eta 0:00:01\r\u001b[K     |███████████████▍                | 215 kB 8.7 MB/s eta 0:00:01\r\u001b[K     |████████████████                | 225 kB 8.7 MB/s eta 0:00:01\r\u001b[K     |████████████████▉               | 235 kB 8.7 MB/s eta 0:00:01\r\u001b[K     |█████████████████▌              | 245 kB 8.7 MB/s eta 0:00:01\r\u001b[K     |██████████████████▎             | 256 kB 8.7 MB/s eta 0:00:01\r\u001b[K     |███████████████████             | 266 kB 8.7 MB/s eta 0:00:01\r\u001b[K     |███████████████████▊            | 276 kB 8.7 MB/s eta 0:00:01\r\u001b[K     |████████████████████▌           | 286 kB 8.7 MB/s eta 0:00:01\r\u001b[K     |█████████████████████▏          | 296 kB 8.7 MB/s eta 0:00:01\r\u001b[K     |██████████████████████          | 307 kB 8.7 MB/s eta 0:00:01\r\u001b[K     |██████████████████████▋         | 317 kB 8.7 MB/s eta 0:00:01\r\u001b[K     |███████████████████████▍        | 327 kB 8.7 MB/s eta 0:00:01\r\u001b[K     |████████████████████████        | 337 kB 8.7 MB/s eta 0:00:01\r\u001b[K     |████████████████████████▉       | 348 kB 8.7 MB/s eta 0:00:01\r\u001b[K     |█████████████████████████▋      | 358 kB 8.7 MB/s eta 0:00:01\r\u001b[K     |██████████████████████████▎     | 368 kB 8.7 MB/s eta 0:00:01\r\u001b[K     |███████████████████████████     | 378 kB 8.7 MB/s eta 0:00:01\r\u001b[K     |███████████████████████████▊    | 389 kB 8.7 MB/s eta 0:00:01\r\u001b[K     |████████████████████████████▌   | 399 kB 8.7 MB/s eta 0:00:01\r\u001b[K     |█████████████████████████████▏  | 409 kB 8.7 MB/s eta 0:00:01\r\u001b[K     |██████████████████████████████  | 419 kB 8.7 MB/s eta 0:00:01\r\u001b[K     |██████████████████████████████▊ | 430 kB 8.7 MB/s eta 0:00:01\r\u001b[K     |███████████████████████████████▍| 440 kB 8.7 MB/s eta 0:00:01\r\u001b[K     |████████████████████████████████| 448 kB 8.7 MB/s \n",
            "\u001b[?25hInstalling collected packages: box2d-py\n",
            "Successfully installed box2d-py-2.3.8\n",
            "Requirement already satisfied: gym[Box_2D] in /usr/local/lib/python3.7/dist-packages (0.17.3)\n",
            "\u001b[33mWARNING: gym 0.17.3 does not provide the extra 'box_2d'\u001b[0m\n",
            "Requirement already satisfied: cloudpickle<1.7.0,>=1.2.0 in /usr/local/lib/python3.7/dist-packages (from gym[Box_2D]) (1.3.0)\n",
            "Requirement already satisfied: numpy>=1.10.4 in /usr/local/lib/python3.7/dist-packages (from gym[Box_2D]) (1.21.6)\n",
            "Requirement already satisfied: scipy in /usr/local/lib/python3.7/dist-packages (from gym[Box_2D]) (1.4.1)\n",
            "Requirement already satisfied: pyglet<=1.5.0,>=1.4.0 in /usr/local/lib/python3.7/dist-packages (from gym[Box_2D]) (1.5.0)\n",
            "Requirement already satisfied: future in /usr/local/lib/python3.7/dist-packages (from pyglet<=1.5.0,>=1.4.0->gym[Box_2D]) (0.16.0)\n"
          ]
        }
      ],
      "source": [
        "!pip3 install box2d-py\n",
        "!pip3 install gym[Box_2D]"
      ]
    },
    {
      "cell_type": "code",
      "execution_count": 3,
      "metadata": {
        "colab": {
          "base_uri": "https://localhost:8080/"
        },
        "id": "IlBJ2Ho4UAuy",
        "outputId": "dde5ec80-681c-4a1d-f963-0e54ebdc879f"
      },
      "outputs": [
        {
          "output_type": "stream",
          "name": "stdout",
          "text": [
            "Mounted at /Drive\n"
          ]
        }
      ],
      "source": [
        "from google.colab import drive\n",
        "drive.mount('/Drive')"
      ]
    },
    {
      "cell_type": "code",
      "execution_count": 4,
      "metadata": {
        "id": "6CbiEYt9YyTr"
      },
      "outputs": [],
      "source": [
        "env = gym.make('LunarLander-v2')"
      ]
    },
    {
      "cell_type": "code",
      "execution_count": 5,
      "metadata": {
        "id": "dLT6a5HGJZEe"
      },
      "outputs": [],
      "source": [
        "class replayBuffer:\n",
        "  def __init__(self,maxSize,stateDim):\n",
        "    self.state=np.zeros((maxSize,stateDim))\n",
        "    self.action=np.zeros(maxSize,dtype= np.int8)\n",
        "    self.reward=np.zeros(maxSize)\n",
        "    self.done=np.zeros(maxSize,)\n",
        "    self.nextState=np.zeros((maxSize,stateDim))\n",
        "    self.maxSize=maxSize\n",
        "    self.curser=0\n",
        "    self.size=0\n",
        "\n",
        "  def save(self,state,action,reward,nextState,done):\n",
        "    self.state[self.curser]=state\n",
        "    self.action[self.curser]=action\n",
        "    self.reward[self.curser]=reward\n",
        "    self.nextState[self.curser]=nextState\n",
        "    self.done[self.curser]=done\n",
        "    self.curser=(self.curser+1)%self.maxSize\n",
        "    if self.size<self.maxSize:\n",
        "      self.size+=1 \n",
        "      \n",
        "  def sample(self,batchSize):\n",
        "    batchSize=min(self.size,batchSize-1)\n",
        "    indexes=np.random.choice([i for i in range(self.size-1)],batchSize)\n",
        "    return self.state[indexes],self.action[indexes],self.reward[indexes],self.nextState[indexes],self.done[indexes]\n"
      ]
    },
    {
      "cell_type": "code",
      "execution_count": 36,
      "metadata": {
        "id": "Y37LHqC2RQEs"
      },
      "outputs": [],
      "source": [
        "class Agent:\n",
        "  def __init__(self,stateShape,actionShape,exploreRate,exploreRateDecay,minimumExploreRate,gamma,copyNetsCycle):\n",
        "      self.gamma=gamma\n",
        "      self.exploreRate=exploreRate\n",
        "      self.exploreRateDecay=exploreRateDecay\n",
        "      self.minimumExploreRate=minimumExploreRate\n",
        "      self.actionShape=actionShape\n",
        "      self.memory=replayBuffer(1000000,stateShape)\n",
        "      self.model=self.buildModel(stateShape,actionShape)\n",
        "      self.model.compile(optimizer='Adam',loss='mse')\n",
        "      self.tModel=self.buildModel(stateShape,actionShape)\n",
        "      self.tModel.compile(optimizer='Adam',loss='mse')\n",
        "      self.learnThreshold=0\n",
        "      self.copyNetsCycle=copyNetsCycle\n",
        "\n",
        "  def buildModel(self,input,output):\n",
        "    inputLayer=keras.Input(shape=(input,))\n",
        "    layer=Dense(256,activation='relu')(inputLayer)\n",
        "    layer=Dense(256,activation='relu')(layer)\n",
        "    outputLayer=Dense(output)(layer)\n",
        "    model=keras.Model(inputs=inputLayer,outputs=outputLayer)\n",
        "    model.compile(optimizer='Adam',loss='mse')\n",
        "    return model\n",
        "    \n",
        "  def getAction(self,state):\n",
        "    q=self.model.predict(np.expand_dims(state,axis=0))[0]\n",
        "    if np.random.random()<=self.exploreRate:\n",
        "      return np.random.choice([i for i in range(env.action_space.n)])\n",
        "    else:\n",
        "      return np.argmax(q)\n",
        "\n",
        "  def exploreDecay(self):\n",
        "      self.exploreRate=max(self.exploreRate*self.exploreRateDecay,self.minimumExploreRate)\n",
        "\n",
        "  def saveModel(self,modelName=\"DoubleDQN_LunarLanderV2.h\"):\n",
        "      self.model.save_weights(f\"{modelName}\")\n",
        "\n",
        "  def loadModel(self,modelName=\"DoubleDQN_LunarLanderV2.h\"):\n",
        "      self.model.load_weights(f\"{modelName}\")\n",
        "      self.tModel.set_weights(self.model.get_weights())\n",
        "      \n",
        "  def learn(self,batchSize=64):\n",
        "    if self.memory.size>batchSize:\n",
        "      states,actions,rewards,nextStates,done=self.memory.sample(batchSize)\n",
        "      qState=self.model.predict(states)\n",
        "      qNextState=self.model.predict(nextStates)\n",
        "      qNextStateTarget=self.tModel.predict(nextStates)\n",
        "      maxActions=np.argmax(qNextState,axis=1)\n",
        "      batchIndex = np.arange(batchSize-1, dtype=np.int32)\n",
        "      qState[batchIndex,actions]=(rewards+(self.gamma*qNextStateTarget[batchIndex,maxActions.astype(int)]*(1-done)))\n",
        "      _=self.model.fit(x=states,y=qState,verbose=0)\n",
        "      self.learnThreshold+=1\n",
        "      self.exploreDecay()\n",
        "      if(self.learnThreshold%self.copyNetsCycle)==0:\n",
        "        self.tModel.set_weights(self.model.get_weights())\n",
        "        self.saveModel()\n",
        "        self.learnThreshold=0\n",
        "agent=Agent(stateShape=env.observation_space.shape[0],actionShape=env.action_space.n\\\n",
        "            ,exploreRate=0.01,exploreRateDecay=0.99,minimumExploreRate=0.01,gamma=0.99,copyNetsCycle=100)"
      ]
    },
    {
      "cell_type": "code",
      "execution_count": 17,
      "metadata": {
        "id": "M3fwkBPoSXHb"
      },
      "outputs": [],
      "source": [
        "agent=Agent(stateShape=env.observation_space.shape[0],actionShape=env.action_space.n\\\n",
        "            ,exploreRate=1.0,exploreRateDecay=0.9995,minimumExploreRate=0.01,gamma=0.99,copyNetsCycle=100)\n",
        "# agent.loadModel(\"DoubleDQN_LunarLanderV2.h\")"
      ]
    },
    {
      "cell_type": "code",
      "source": [
        "averageRewards=[]\n",
        "totalRewards=[]\n",
        "for i in range(1,200):\n",
        "  done=False\n",
        "  state=env.reset()\n",
        "  rewards=0\n",
        "  while not done:\n",
        "    action=agent.getAction(state)\n",
        "    nextState,reward,done,info=env.step(action)\n",
        "    agent.memory.save(state,action,reward,nextState,int(done))\n",
        "    rewards+=reward\n",
        "    state=nextState\n",
        "    agent.learn(batchSize=64)\n",
        "  totalRewards.append(rewards)\n",
        "  averageRewards.append(sum(totalRewards)/len(totalRewards))\n",
        "  print(f\"episode: {i}   reward: {rewards}  avg so far:{averageRewards[-1]} exploreRate:{agent.exploreRate}\")"
      ],
      "metadata": {
        "colab": {
          "base_uri": "https://localhost:8080/",
          "height": 1000
        },
        "id": "Ld9e0nIucmo_",
        "outputId": "8af4ced0-b469-4fb0-a380-e6441db208e9"
      },
      "execution_count": 18,
      "outputs": [
        {
          "output_type": "stream",
          "name": "stdout",
          "text": [
            "episode: 1   reward: -236.54794123174165  avg so far:-236.54794123174165 exploreRate:0.9714094193743169\n",
            "episode: 2   reward: -110.65996455333253  avg so far:-173.60395289253708 exploreRate:0.9333105749632893\n",
            "episode: 3   reward: -136.71824405049307  avg so far:-161.30871661185574 exploreRate:0.900751257125721\n",
            "episode: 4   reward: -177.99176052455215  avg so far:-165.47947759002983 exploreRate:0.8611062428400729\n",
            "episode: 5   reward: -246.38684905546668  avg so far:-181.6609518831172 exploreRate:0.81419825010847\n",
            "episode: 6   reward: -99.08303920576799  avg so far:-167.89796643689235 exploreRate:0.7538433821357534\n",
            "episode: 7   reward: -46.46007925584878  avg so far:-150.5496968396004 exploreRate:0.7235534186586253\n",
            "episode: 8   reward: -248.9914726607256  avg so far:-162.85491881724104 exploreRate:0.6820886413796821\n",
            "episode: 9   reward: -49.425562881514594  avg so far:-150.25165704660478 exploreRate:0.6420360739416774\n",
            "episode: 10   reward: -57.17477529149626  avg so far:-140.94396887109392 exploreRate:0.5932552444421718\n",
            "episode: 11   reward: -123.86764217094449  avg so far:-139.3915755347167 exploreRate:0.5389381029368515\n",
            "episode: 12   reward: -168.8881279022222  avg so far:-141.84962156534218 exploreRate:0.5067842382020455\n",
            "episode: 13   reward: -115.66698699710716  avg so far:-139.83557275240102 exploreRate:0.4661765688049959\n",
            "episode: 14   reward: -263.7877247069902  avg so far:-148.68929789201454 exploreRate:0.4066815021114777\n",
            "episode: 15   reward: -96.60189602797712  avg so far:-145.21680443441204 exploreRate:0.37222860556614584\n",
            "episode: 16   reward: -123.79784875472274  avg so far:-143.87811970443147 exploreRate:0.31940820807296777\n",
            "episode: 17   reward: -101.20586439909327  avg so far:-141.36798703941156 exploreRate:0.2892944928300246\n",
            "episode: 18   reward: -113.25461953180516  avg so far:-139.80613328898897 exploreRate:0.1974231991726412\n",
            "episode: 19   reward: 73.4058620873152  avg so far:-128.58444932181507 exploreRate:0.1806077199774845\n",
            "episode: 20   reward: -216.2449655857072  avg so far:-132.9674751350097 exploreRate:0.11653805241342109\n",
            "episode: 21   reward: -56.97100027541983  avg so far:-129.34859537979113 exploreRate:0.07067506393051091\n",
            "episode: 22   reward: -93.14097381446359  avg so far:-127.70279439954896 exploreRate:0.042861233375190315\n",
            "episode: 23   reward: -9.824202037099415  avg so far:-122.57763820987724 exploreRate:0.025993401693258956\n",
            "episode: 24   reward: -37.415442824059795  avg so far:-119.02921340213486 exploreRate:0.015763823818896745\n",
            "episode: 25   reward: -364.4812130346577  avg so far:-128.84729338743577 exploreRate:0.014515209797678797\n",
            "episode: 26   reward: -74.373086291723  avg so far:-126.75213157606221 exploreRate:0.01\n",
            "episode: 27   reward: -260.90348687304765  avg so far:-131.72070029076536 exploreRate:0.01\n",
            "episode: 28   reward: -337.76058366615524  avg so far:-139.07926755417216 exploreRate:0.01\n",
            "episode: 29   reward: -187.64031521914427  avg so far:-140.7537864391712 exploreRate:0.01\n",
            "episode: 30   reward: -244.61166954408952  avg so far:-144.2157158760018 exploreRate:0.01\n",
            "episode: 31   reward: -284.88465760157413  avg so far:-148.7534236736009 exploreRate:0.01\n",
            "episode: 32   reward: -53.974829115202326  avg so far:-145.79159259365096 exploreRate:0.01\n",
            "episode: 33   reward: -283.5379334266445  avg so far:-149.9657241340447 exploreRate:0.01\n",
            "episode: 34   reward: -560.5321201063564  avg so far:-162.04120636852446 exploreRate:0.01\n",
            "episode: 35   reward: -348.76819389547785  avg so far:-167.37626315500881 exploreRate:0.01\n",
            "episode: 36   reward: -374.74194957310056  avg so far:-173.13642111106694 exploreRate:0.01\n",
            "episode: 37   reward: -124.30281783202555  avg so far:-171.81659399541718 exploreRate:0.01\n",
            "episode: 38   reward: -350.73814884008937  avg so far:-176.52505596501382 exploreRate:0.01\n",
            "episode: 39   reward: -554.6711764065103  avg so far:-186.2211103353086 exploreRate:0.01\n",
            "episode: 40   reward: -210.8227634683456  avg so far:-186.83615166363452 exploreRate:0.01\n",
            "episode: 41   reward: -84.5319616518384  avg so far:-184.34092751700533 exploreRate:0.01\n",
            "episode: 42   reward: -306.78897736393424  avg so far:-187.25635727526554 exploreRate:0.01\n",
            "episode: 43   reward: -18.832664213987783  avg so far:-183.33952720407305 exploreRate:0.01\n",
            "episode: 44   reward: -59.40790277379958  avg so far:-180.5228993761123 exploreRate:0.01\n",
            "episode: 45   reward: -133.75617471000376  avg so far:-179.48363882797656 exploreRate:0.01\n",
            "episode: 46   reward: -66.45698511675036  avg so far:-177.0265376603412 exploreRate:0.01\n",
            "episode: 47   reward: -257.72709257347174  avg so far:-178.74357074359932 exploreRate:0.01\n",
            "episode: 48   reward: -21.675599032641713  avg so far:-175.47132133295437 exploreRate:0.01\n",
            "episode: 49   reward: -97.21625997135972  avg so far:-173.87427926435038 exploreRate:0.01\n",
            "episode: 50   reward: -37.075867780621856  avg so far:-171.13831103467584 exploreRate:0.01\n",
            "episode: 51   reward: -68.54660151576692  avg so far:-169.12670888724625 exploreRate:0.01\n",
            "episode: 52   reward: -69.40235063154535  avg so far:-167.20893276694432 exploreRate:0.01\n",
            "episode: 53   reward: -90.69673744060037  avg so far:-165.7653064400322 exploreRate:0.01\n",
            "episode: 54   reward: -125.40869970955889  avg so far:-165.01796187094934 exploreRate:0.01\n",
            "episode: 55   reward: -109.32276803109644  avg so far:-164.00532198295198 exploreRate:0.01\n",
            "episode: 56   reward: -11.347062101692522  avg so far:-161.27928162792952 exploreRate:0.01\n",
            "episode: 57   reward: -91.31871749462024  avg so far:-160.05190330980128 exploreRate:0.01\n",
            "episode: 58   reward: -136.84046481589235  avg so far:-159.65170609438906 exploreRate:0.01\n",
            "episode: 59   reward: -79.88125112303459  avg so far:-158.2996644847051 exploreRate:0.01\n",
            "episode: 60   reward: -86.83696284715167  avg so far:-157.10861945741254 exploreRate:0.01\n",
            "episode: 61   reward: -81.43075149623115  avg so far:-155.86799867116366 exploreRate:0.01\n",
            "episode: 62   reward: -81.1135048666095  avg so far:-154.6622810291547 exploreRate:0.01\n",
            "episode: 63   reward: -89.32513837593831  avg so far:-153.6251835267227 exploreRate:0.01\n",
            "episode: 64   reward: -550.5642921724123  avg so far:-159.8273570993116 exploreRate:0.01\n",
            "episode: 65   reward: -179.08862632839129  avg so far:-160.1236843182205 exploreRate:0.01\n",
            "episode: 66   reward: -75.89000000531917  avg so far:-158.84741637408567 exploreRate:0.01\n",
            "episode: 67   reward: -83.66174633875247  avg so far:-157.7252421944538 exploreRate:0.01\n",
            "episode: 68   reward: -48.56843222670041  avg so far:-156.1199949890457 exploreRate:0.01\n",
            "episode: 69   reward: 181.0182543015196  avg so far:-151.23393340512445 exploreRate:0.01\n",
            "episode: 70   reward: -27.074225322663203  avg so far:-149.46022328966072 exploreRate:0.01\n",
            "episode: 71   reward: 211.71041428826055  avg so far:-144.3733129012393 exploreRate:0.01\n",
            "episode: 72   reward: -131.13198459541482  avg so far:-144.1894055636584 exploreRate:0.01\n",
            "episode: 73   reward: -192.39906921267666  avg so far:-144.84981191501484 exploreRate:0.01\n",
            "episode: 74   reward: -59.77394873333762  avg so far:-143.7001380882354 exploreRate:0.01\n",
            "episode: 75   reward: -71.88601556443369  avg so far:-142.74261645458475 exploreRate:0.01\n",
            "episode: 76   reward: -104.43300328849386  avg so far:-142.23854259713616 exploreRate:0.01\n",
            "episode: 77   reward: -58.48301563055168  avg so far:-141.15080848068703 exploreRate:0.01\n",
            "episode: 78   reward: 156.44488425198645  avg so far:-137.3354790866784 exploreRate:0.01\n",
            "episode: 79   reward: 178.14425020644404  avg so far:-133.34206479182873 exploreRate:0.01\n",
            "episode: 80   reward: -86.8294530854605  avg so far:-132.76065714549912 exploreRate:0.01\n",
            "episode: 81   reward: -207.23175659510733  avg so far:-133.68005343500047 exploreRate:0.01\n",
            "episode: 82   reward: -46.595841370493616  avg so far:-132.61805084884796 exploreRate:0.01\n",
            "episode: 83   reward: -69.87580758108057  avg so far:-131.86212020706762 exploreRate:0.01\n",
            "episode: 84   reward: -98.94005588238689  avg so far:-131.47019086986904 exploreRate:0.01\n",
            "episode: 85   reward: -43.02664326335581  avg so far:-130.42967854508655 exploreRate:0.01\n",
            "episode: 86   reward: -63.642896744192754  avg so far:-129.65308805902964 exploreRate:0.01\n",
            "episode: 87   reward: -166.70926077248205  avg so far:-130.0790210787245 exploreRate:0.01\n",
            "episode: 88   reward: -17.023095574571233  avg so far:-128.79429465254094 exploreRate:0.01\n",
            "episode: 89   reward: 184.46232220159146  avg so far:-125.274557384517 exploreRate:0.01\n",
            "episode: 90   reward: 60.41618578827024  avg so far:-123.21132690481936 exploreRate:0.01\n",
            "episode: 91   reward: -44.172454418641564  avg so far:-122.34276786650972 exploreRate:0.01\n",
            "episode: 92   reward: 121.33588969050692  avg so far:-119.69408680610736 exploreRate:0.01\n",
            "episode: 93   reward: -41.16576537970433  avg so far:-118.84969625313529 exploreRate:0.01\n",
            "episode: 94   reward: -75.08383176348003  avg so far:-118.38410195005386 exploreRate:0.01\n",
            "episode: 95   reward: -36.785330500052815  avg so far:-117.52516751373807 exploreRate:0.01\n",
            "episode: 96   reward: -64.1435062128911  avg so far:-116.96910854185425 exploreRate:0.01\n",
            "episode: 97   reward: -69.50245480755696  avg so far:-116.47976159613984 exploreRate:0.01\n",
            "episode: 98   reward: -50.896724721700366  avg so far:-115.81054693415577 exploreRate:0.01\n",
            "episode: 99   reward: -35.44976849124266  avg so far:-114.99882189937885 exploreRate:0.01\n",
            "episode: 100   reward: -469.78974200077147  avg so far:-118.54673110039279 exploreRate:0.01\n",
            "episode: 101   reward: -277.53374086341023  avg so far:-120.1208599099276 exploreRate:0.01\n",
            "episode: 102   reward: -63.95896472944835  avg so far:-119.57025309443272 exploreRate:0.01\n",
            "episode: 103   reward: -59.352245836599295  avg so far:-118.98561224726929 exploreRate:0.01\n",
            "episode: 104   reward: -238.72479464012244  avg so far:-120.13695053950825 exploreRate:0.01\n",
            "episode: 105   reward: -74.1429701114409  avg so far:-119.69891263066951 exploreRate:0.01\n",
            "episode: 106   reward: -34.23527576537198  avg so far:-118.8926519055252 exploreRate:0.01\n",
            "episode: 107   reward: 238.00394959945882  avg so far:-115.55716964846927 exploreRate:0.01\n",
            "episode: 108   reward: 212.82385474799008  avg so far:-112.51660460776131 exploreRate:0.01\n",
            "episode: 109   reward: 214.73058247979742  avg so far:-109.51433683631582 exploreRate:0.01\n",
            "episode: 110   reward: 227.98576594590355  avg so far:-106.4461540837502 exploreRate:0.01\n",
            "episode: 111   reward: 107.07605438532099  avg so far:-104.52253058402883 exploreRate:0.01\n",
            "episode: 112   reward: 261.754720663611  avg so far:-101.25219798360347 exploreRate:0.01\n",
            "episode: 113   reward: 253.64469499668422  avg so far:-98.11151751475137 exploreRate:0.01\n",
            "episode: 114   reward: 233.6373309161472  avg so far:-95.20143989693648 exploreRate:0.01\n",
            "episode: 115   reward: 218.53947596364202  avg so far:-92.47325801988796 exploreRate:0.01\n",
            "episode: 116   reward: 227.2090222470589  avg so far:-89.71737629344877 exploreRate:0.01\n",
            "episode: 117   reward: -116.5004824666922  avg so far:-89.94629173082691 exploreRate:0.01\n",
            "episode: 118   reward: 60.27353897832785  avg so far:-88.67324231803745 exploreRate:0.01\n",
            "episode: 119   reward: 204.80334189653277  avg so far:-86.20705253472174 exploreRate:0.01\n",
            "episode: 120   reward: 196.77728320138863  avg so far:-83.84884973692081 exploreRate:0.01\n",
            "episode: 121   reward: 225.9711310919011  avg so far:-81.28835402759171 exploreRate:0.01\n",
            "episode: 122   reward: 251.70854235878772  avg so far:-78.5588712703263 exploreRate:0.01\n",
            "episode: 123   reward: 248.5503414193705  avg so far:-75.89944677691415 exploreRate:0.01\n",
            "episode: 124   reward: 258.8573273307354  avg so far:-73.19979537282019 exploreRate:0.01\n",
            "episode: 125   reward: 216.79996594377974  avg so far:-70.8797972822874 exploreRate:0.01\n",
            "episode: 126   reward: 271.5402134140694  avg so far:-68.16217814977664 exploreRate:0.01\n",
            "episode: 127   reward: -176.69060991068528  avg so far:-69.01673273057119 exploreRate:0.01\n",
            "episode: 128   reward: 239.23461242783608  avg so far:-66.60851909652114 exploreRate:0.01\n",
            "episode: 129   reward: 230.762779672044  avg so far:-64.30331523009815 exploreRate:0.01\n",
            "episode: 130   reward: 258.4229303001295  avg so far:-61.8208056490964 exploreRate:0.01\n",
            "episode: 131   reward: 267.62700420262104  avg so far:-59.30593687160237 exploreRate:0.01\n",
            "episode: 132   reward: -42.96212003848461  avg so far:-59.18212007741209 exploreRate:0.01\n",
            "episode: 133   reward: 230.44389878570223  avg so far:-57.0044808378398 exploreRate:0.01\n",
            "episode: 134   reward: 0.3414523033322183  avg so far:-56.576526112905675 exploreRate:0.01\n",
            "episode: 135   reward: 268.30259770272954  avg so far:-54.170014084641714 exploreRate:0.01\n",
            "episode: 136   reward: 224.23712443042  avg so far:-52.12290277203096 exploreRate:0.01\n",
            "episode: 137   reward: 295.9216600344988  avg so far:-49.58243151066943 exploreRate:0.01\n",
            "episode: 138   reward: 271.60788699340674  avg so far:-47.254965434552936 exploreRate:0.01\n"
          ]
        },
        {
          "output_type": "error",
          "ename": "KeyboardInterrupt",
          "evalue": "ignored",
          "traceback": [
            "\u001b[0;31m---------------------------------------------------------------------------\u001b[0m",
            "\u001b[0;31mKeyboardInterrupt\u001b[0m                         Traceback (most recent call last)",
            "\u001b[0;32m<ipython-input-18-9d565e02dfd8>\u001b[0m in \u001b[0;36m<module>\u001b[0;34m()\u001b[0m\n\u001b[1;32m     11\u001b[0m     \u001b[0mrewards\u001b[0m\u001b[0;34m+=\u001b[0m\u001b[0mreward\u001b[0m\u001b[0;34m\u001b[0m\u001b[0;34m\u001b[0m\u001b[0m\n\u001b[1;32m     12\u001b[0m     \u001b[0mstate\u001b[0m\u001b[0;34m=\u001b[0m\u001b[0mnextState\u001b[0m\u001b[0;34m\u001b[0m\u001b[0;34m\u001b[0m\u001b[0m\n\u001b[0;32m---> 13\u001b[0;31m     \u001b[0magent\u001b[0m\u001b[0;34m.\u001b[0m\u001b[0mlearn\u001b[0m\u001b[0;34m(\u001b[0m\u001b[0mbatchSize\u001b[0m\u001b[0;34m=\u001b[0m\u001b[0;36m64\u001b[0m\u001b[0;34m)\u001b[0m\u001b[0;34m\u001b[0m\u001b[0;34m\u001b[0m\u001b[0m\n\u001b[0m\u001b[1;32m     14\u001b[0m   \u001b[0mtotalRewards\u001b[0m\u001b[0;34m.\u001b[0m\u001b[0mappend\u001b[0m\u001b[0;34m(\u001b[0m\u001b[0mrewards\u001b[0m\u001b[0;34m)\u001b[0m\u001b[0;34m\u001b[0m\u001b[0;34m\u001b[0m\u001b[0m\n\u001b[1;32m     15\u001b[0m   \u001b[0maverageRewards\u001b[0m\u001b[0;34m.\u001b[0m\u001b[0mappend\u001b[0m\u001b[0;34m(\u001b[0m\u001b[0msum\u001b[0m\u001b[0;34m(\u001b[0m\u001b[0mtotalRewards\u001b[0m\u001b[0;34m)\u001b[0m\u001b[0;34m/\u001b[0m\u001b[0mlen\u001b[0m\u001b[0;34m(\u001b[0m\u001b[0mtotalRewards\u001b[0m\u001b[0;34m)\u001b[0m\u001b[0;34m)\u001b[0m\u001b[0;34m\u001b[0m\u001b[0;34m\u001b[0m\u001b[0m\n",
            "\u001b[0;32m<ipython-input-7-9ad4657b3400>\u001b[0m in \u001b[0;36mlearn\u001b[0;34m(self, batchSize)\u001b[0m\n\u001b[1;32m     52\u001b[0m       \u001b[0mbatchIndex\u001b[0m \u001b[0;34m=\u001b[0m \u001b[0mnp\u001b[0m\u001b[0;34m.\u001b[0m\u001b[0marange\u001b[0m\u001b[0;34m(\u001b[0m\u001b[0mbatchSize\u001b[0m\u001b[0;34m-\u001b[0m\u001b[0;36m1\u001b[0m\u001b[0;34m,\u001b[0m \u001b[0mdtype\u001b[0m\u001b[0;34m=\u001b[0m\u001b[0mnp\u001b[0m\u001b[0;34m.\u001b[0m\u001b[0mint32\u001b[0m\u001b[0;34m)\u001b[0m\u001b[0;34m\u001b[0m\u001b[0;34m\u001b[0m\u001b[0m\n\u001b[1;32m     53\u001b[0m       \u001b[0mqState\u001b[0m\u001b[0;34m[\u001b[0m\u001b[0mbatchIndex\u001b[0m\u001b[0;34m,\u001b[0m\u001b[0mactions\u001b[0m\u001b[0;34m]\u001b[0m\u001b[0;34m=\u001b[0m\u001b[0;34m(\u001b[0m\u001b[0mrewards\u001b[0m\u001b[0;34m+\u001b[0m\u001b[0;34m(\u001b[0m\u001b[0mself\u001b[0m\u001b[0;34m.\u001b[0m\u001b[0mgamma\u001b[0m\u001b[0;34m*\u001b[0m\u001b[0mqNextStateTarget\u001b[0m\u001b[0;34m[\u001b[0m\u001b[0mbatchIndex\u001b[0m\u001b[0;34m,\u001b[0m\u001b[0mmaxActions\u001b[0m\u001b[0;34m.\u001b[0m\u001b[0mastype\u001b[0m\u001b[0;34m(\u001b[0m\u001b[0mint\u001b[0m\u001b[0;34m)\u001b[0m\u001b[0;34m]\u001b[0m\u001b[0;34m*\u001b[0m\u001b[0;34m(\u001b[0m\u001b[0;36m1\u001b[0m\u001b[0;34m-\u001b[0m\u001b[0mdone\u001b[0m\u001b[0;34m)\u001b[0m\u001b[0;34m)\u001b[0m\u001b[0;34m)\u001b[0m\u001b[0;34m\u001b[0m\u001b[0;34m\u001b[0m\u001b[0m\n\u001b[0;32m---> 54\u001b[0;31m       \u001b[0m_\u001b[0m\u001b[0;34m=\u001b[0m\u001b[0mself\u001b[0m\u001b[0;34m.\u001b[0m\u001b[0mmodel\u001b[0m\u001b[0;34m.\u001b[0m\u001b[0mfit\u001b[0m\u001b[0;34m(\u001b[0m\u001b[0mx\u001b[0m\u001b[0;34m=\u001b[0m\u001b[0mstates\u001b[0m\u001b[0;34m,\u001b[0m\u001b[0my\u001b[0m\u001b[0;34m=\u001b[0m\u001b[0mqState\u001b[0m\u001b[0;34m,\u001b[0m\u001b[0mverbose\u001b[0m\u001b[0;34m=\u001b[0m\u001b[0;36m0\u001b[0m\u001b[0;34m)\u001b[0m\u001b[0;34m\u001b[0m\u001b[0;34m\u001b[0m\u001b[0m\n\u001b[0m\u001b[1;32m     55\u001b[0m       \u001b[0mself\u001b[0m\u001b[0;34m.\u001b[0m\u001b[0mlearnThreshold\u001b[0m\u001b[0;34m+=\u001b[0m\u001b[0;36m1\u001b[0m\u001b[0;34m\u001b[0m\u001b[0;34m\u001b[0m\u001b[0m\n\u001b[1;32m     56\u001b[0m       \u001b[0mself\u001b[0m\u001b[0;34m.\u001b[0m\u001b[0mexploreDecay\u001b[0m\u001b[0;34m(\u001b[0m\u001b[0;34m)\u001b[0m\u001b[0;34m\u001b[0m\u001b[0;34m\u001b[0m\u001b[0m\n",
            "\u001b[0;32m/usr/local/lib/python3.7/dist-packages/keras/utils/traceback_utils.py\u001b[0m in \u001b[0;36merror_handler\u001b[0;34m(*args, **kwargs)\u001b[0m\n\u001b[1;32m     62\u001b[0m     \u001b[0mfiltered_tb\u001b[0m \u001b[0;34m=\u001b[0m \u001b[0;32mNone\u001b[0m\u001b[0;34m\u001b[0m\u001b[0;34m\u001b[0m\u001b[0m\n\u001b[1;32m     63\u001b[0m     \u001b[0;32mtry\u001b[0m\u001b[0;34m:\u001b[0m\u001b[0;34m\u001b[0m\u001b[0;34m\u001b[0m\u001b[0m\n\u001b[0;32m---> 64\u001b[0;31m       \u001b[0;32mreturn\u001b[0m \u001b[0mfn\u001b[0m\u001b[0;34m(\u001b[0m\u001b[0;34m*\u001b[0m\u001b[0margs\u001b[0m\u001b[0;34m,\u001b[0m \u001b[0;34m**\u001b[0m\u001b[0mkwargs\u001b[0m\u001b[0;34m)\u001b[0m\u001b[0;34m\u001b[0m\u001b[0;34m\u001b[0m\u001b[0m\n\u001b[0m\u001b[1;32m     65\u001b[0m     \u001b[0;32mexcept\u001b[0m \u001b[0mException\u001b[0m \u001b[0;32mas\u001b[0m \u001b[0me\u001b[0m\u001b[0;34m:\u001b[0m  \u001b[0;31m# pylint: disable=broad-except\u001b[0m\u001b[0;34m\u001b[0m\u001b[0;34m\u001b[0m\u001b[0m\n\u001b[1;32m     66\u001b[0m       \u001b[0mfiltered_tb\u001b[0m \u001b[0;34m=\u001b[0m \u001b[0m_process_traceback_frames\u001b[0m\u001b[0;34m(\u001b[0m\u001b[0me\u001b[0m\u001b[0;34m.\u001b[0m\u001b[0m__traceback__\u001b[0m\u001b[0;34m)\u001b[0m\u001b[0;34m\u001b[0m\u001b[0;34m\u001b[0m\u001b[0m\n",
            "\u001b[0;31mKeyboardInterrupt\u001b[0m: "
          ]
        }
      ]
    },
    {
      "cell_type": "code",
      "execution_count": 19,
      "metadata": {
        "id": "rFBZ-TCb8m48",
        "colab": {
          "base_uri": "https://localhost:8080/",
          "height": 281
        },
        "outputId": "f56efa0d-0ca2-4fc3-b2c8-845ba1946089"
      },
      "outputs": [
        {
          "output_type": "display_data",
          "data": {
            "text/plain": [
              "<Figure size 432x288 with 1 Axes>"
            ],
            "image/png": "[encoded data removed]"
          },
          "metadata": {
            "needs_background": "light"
          }
        }
      ],
      "source": [
        "plt.title(f'Total Rewards')\n",
        "plt.yscale('symlog')\n",
        "plt.plot(totalRewards)\n",
        "plt.savefig(\"Total Rewards\",dpi=200)\n",
        "plt.clf()\n",
        "plt.title(f'Average Rewards')\n",
        "plt.yscale('symlog')\n",
        "plt.plot(averageRewards)\n",
        "plt.savefig(\"Average Rewards\",dpi=200)"
      ]
    }
  ],
  "metadata": {
    "colab": {
      "collapsed_sections": [],
      "name": "Ddeuling_DQN_for_Gym_LunarLander.ipynb",
      "provenance": []
    },
    "kernelspec": {
      "display_name": "Python 3",
      "name": "python3"
    },
    "language_info": {
      "name": "python"
    }
  },
  "nbformat": 4,
  "nbformat_minor": 0
}