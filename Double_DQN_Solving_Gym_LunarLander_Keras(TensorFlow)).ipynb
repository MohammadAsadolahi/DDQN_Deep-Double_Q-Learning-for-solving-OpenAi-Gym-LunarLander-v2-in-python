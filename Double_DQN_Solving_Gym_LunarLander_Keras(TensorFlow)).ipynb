{
 "cells": [
  {
   "cell_type": "code",
   "execution_count": 1,
   "id": "c1f2274b",
   "metadata": {
    "execution": {
     "iopub.execute_input": "2024-01-15T06:23:38.261895Z",
     "iopub.status.busy": "2024-01-15T06:23:38.261235Z",
     "iopub.status.idle": "2024-01-15T06:23:53.289763Z",
     "shell.execute_reply": "2024-01-15T06:23:53.288409Z"
    },
    "id": "8x-y8DACYp0A",
    "papermill": {
     "duration": 15.038287,
     "end_time": "2024-01-15T06:23:53.292473",
     "exception": false,
     "start_time": "2024-01-15T06:23:38.254186",
     "status": "completed"
    },
    "tags": []
   },
   "outputs": [],
   "source": [
    "import numpy as np\n",
    "import gym\n",
    "from keras.layers import Dense, Activation\n",
    "from keras.models import Sequential, load_model\n",
    "import keras\n",
    "import tensorflow as tf\n",
    "import numpy as np\n",
    "import matplotlib.pyplot as plt"
   ]
  },
  {
   "cell_type": "code",
   "execution_count": 2,
   "id": "e202efb6",
   "metadata": {
    "execution": {
     "iopub.execute_input": "2024-01-15T06:23:53.304736Z",
     "iopub.status.busy": "2024-01-15T06:23:53.303583Z",
     "iopub.status.idle": "2024-01-15T06:26:32.751539Z",
     "shell.execute_reply": "2024-01-15T06:26:32.749881Z"
    },
    "id": "NY4U5CiFZm_T",
    "outputId": "cd68818f-788f-4d1b-99c8-38cbb9164b14",
    "papermill": {
     "duration": 159.457329,
     "end_time": "2024-01-15T06:26:32.754822",
     "exception": false,
     "start_time": "2024-01-15T06:23:53.297493",
     "status": "completed"
    },
    "tags": []
   },
   "outputs": [
    {
     "name": "stdout",
     "output_type": "stream",
     "text": [
      "Collecting swig\r\n",
      "  Obtaining dependency information for swig from https://files.pythonhosted.org/packages/89/57/aec312f259b202185481a4c688d517dd62c40723695b3d04b851e682aa4e/swig-4.1.1.post1-py2.py3-none-manylinux_2_5_x86_64.manylinux1_x86_64.whl.metadata\r\n",
      "  Downloading swig-4.1.1.post1-py2.py3-none-manylinux_2_5_x86_64.manylinux1_x86_64.whl.metadata (3.6 kB)\r\n",
      "Downloading swig-4.1.1.post1-py2.py3-none-manylinux_2_5_x86_64.manylinux1_x86_64.whl (1.8 MB)\r\n",
      "\u001b[2K   \u001b[90m━━━━━━━━━━━━━━━━━━━━━━━━━━━━━━━━━━━━━━━━\u001b[0m \u001b[32m1.8/1.8 MB\u001b[0m \u001b[31m34.2 MB/s\u001b[0m eta \u001b[36m0:00:00\u001b[0m\r\n",
      "\u001b[?25hInstalling collected packages: swig\r\n",
      "Successfully installed swig-4.1.1.post1\r\n",
      "Collecting box2d-py\r\n",
      "  Downloading box2d-py-2.3.8.tar.gz (374 kB)\r\n",
      "\u001b[2K     \u001b[90m━━━━━━━━━━━━━━━━━━━━━━━━━━━━━━━━━━━━━━\u001b[0m \u001b[32m374.5/374.5 kB\u001b[0m \u001b[31m11.4 MB/s\u001b[0m eta \u001b[36m0:00:00\u001b[0m\r\n",
      "\u001b[?25h  Preparing metadata (setup.py) ... \u001b[?25l-\b \bdone\r\n",
      "\u001b[?25hBuilding wheels for collected packages: box2d-py\r\n",
      "  Building wheel for box2d-py (setup.py) ... \u001b[?25l-\b \b\\\b \b|\b \b/\b \b-\b \b\\\b \b|\b \b/\b \b-\b \b\\\b \b|\b \bdone\r\n",
      "\u001b[?25h  Created wheel for box2d-py: filename=box2d_py-2.3.8-cp310-cp310-linux_x86_64.whl size=494637 sha256=96a9e02341c53cece44073c4c766e4508b4805f49ba9057eccf8167fb5876a51\r\n",
      "  Stored in directory: /root/.cache/pip/wheels/47/01/d2/6a780da77ccb98b1d2facdd520a8d10838a03b590f6f8d50c0\r\n",
      "Successfully built box2d-py\r\n",
      "Installing collected packages: box2d-py\r\n",
      "Successfully installed box2d-py-2.3.8\r\n",
      "Requirement already satisfied: gym[Box_2D] in /opt/conda/lib/python3.10/site-packages (0.26.2)\r\n",
      "\u001b[33mWARNING: gym 0.26.2 does not provide the extra 'box_2d'\u001b[0m\u001b[33m\r\n",
      "\u001b[0mRequirement already satisfied: numpy>=1.18.0 in /opt/conda/lib/python3.10/site-packages (from gym[Box_2D]) (1.24.3)\r\n",
      "Requirement already satisfied: cloudpickle>=1.2.0 in /opt/conda/lib/python3.10/site-packages (from gym[Box_2D]) (2.2.1)\r\n",
      "Requirement already satisfied: gym-notices>=0.0.4 in /opt/conda/lib/python3.10/site-packages (from gym[Box_2D]) (0.0.8)\r\n",
      "Requirement already satisfied: gym[box2d] in /opt/conda/lib/python3.10/site-packages (0.26.2)\r\n",
      "Requirement already satisfied: numpy>=1.18.0 in /opt/conda/lib/python3.10/site-packages (from gym[box2d]) (1.24.3)\r\n",
      "Requirement already satisfied: cloudpickle>=1.2.0 in /opt/conda/lib/python3.10/site-packages (from gym[box2d]) (2.2.1)\r\n",
      "Requirement already satisfied: gym-notices>=0.0.4 in /opt/conda/lib/python3.10/site-packages (from gym[box2d]) (0.0.8)\r\n",
      "Collecting box2d-py==2.3.5 (from gym[box2d])\r\n",
      "  Downloading box2d-py-2.3.5.tar.gz (374 kB)\r\n",
      "\u001b[2K     \u001b[90m━━━━━━━━━━━━━━━━━━━━━━━━━━━━━━━━━━━━━━\u001b[0m \u001b[32m374.4/374.4 kB\u001b[0m \u001b[31m14.0 MB/s\u001b[0m eta \u001b[36m0:00:00\u001b[0m\r\n",
      "\u001b[?25h  Preparing metadata (setup.py) ... \u001b[?25l-\b \bdone\r\n",
      "\u001b[?25hCollecting pygame==2.1.0 (from gym[box2d])\r\n",
      "  Downloading pygame-2.1.0-cp310-cp310-manylinux_2_17_x86_64.manylinux2014_x86_64.whl (18.3 MB)\r\n",
      "\u001b[2K     \u001b[90m━━━━━━━━━━━━━━━━━━━━━━━━━━━━━━━━━━━━━━━━\u001b[0m \u001b[32m18.3/18.3 MB\u001b[0m \u001b[31m52.6 MB/s\u001b[0m eta \u001b[36m0:00:00\u001b[0m\r\n",
      "\u001b[?25hRequirement already satisfied: swig==4.* in /opt/conda/lib/python3.10/site-packages (from gym[box2d]) (4.1.1.post1)\r\n",
      "Building wheels for collected packages: box2d-py\r\n",
      "  Building wheel for box2d-py (setup.py) ... \u001b[?25l-\b \b\\\b \b|\b \b/\b \b-\b \b\\\b \b|\b \b/\b \b-\b \b\\\b \b|\b \bdone\r\n",
      "\u001b[?25h  Created wheel for box2d-py: filename=box2d_py-2.3.5-cp310-cp310-linux_x86_64.whl size=494635 sha256=bab1f336f30556544bc917cc11b0c76a33259a4f372a0c2cb04b63ef994b68d2\r\n",
      "  Stored in directory: /root/.cache/pip/wheels/db/8f/6a/eaaadf056fba10a98d986f6dce954e6201ba3126926fc5ad9e\r\n",
      "Successfully built box2d-py\r\n",
      "Installing collected packages: box2d-py, pygame\r\n",
      "  Attempting uninstall: box2d-py\r\n",
      "    Found existing installation: box2d-py 2.3.8\r\n",
      "    Uninstalling box2d-py-2.3.8:\r\n",
      "      Successfully uninstalled box2d-py-2.3.8\r\n",
      "Successfully installed box2d-py-2.3.5 pygame-2.1.0\r\n"
     ]
    }
   ],
   "source": [
    "!pip3 install swig\n",
    "!pip3 install box2d-py\n",
    "!pip3 install gym[Box_2D]\n",
    "!pip install gym[box2d]"
   ]
  },
  {
   "cell_type": "code",
   "execution_count": 3,
   "id": "db409021",
   "metadata": {
    "execution": {
     "iopub.execute_input": "2024-01-15T06:26:32.776104Z",
     "iopub.status.busy": "2024-01-15T06:26:32.775657Z",
     "iopub.status.idle": "2024-01-15T06:26:32.868228Z",
     "shell.execute_reply": "2024-01-15T06:26:32.867037Z"
    },
    "id": "6CbiEYt9YyTr",
    "outputId": "51d25ef3-10ef-42a9-b235-9c9273f56d4d",
    "papermill": {
     "duration": 0.106802,
     "end_time": "2024-01-15T06:26:32.871173",
     "exception": false,
     "start_time": "2024-01-15T06:26:32.764371",
     "status": "completed"
    },
    "tags": []
   },
   "outputs": [],
   "source": [
    "env = gym.make('LunarLander-v2')"
   ]
  },
  {
   "cell_type": "code",
   "execution_count": 4,
   "id": "ac67af20",
   "metadata": {
    "execution": {
     "iopub.execute_input": "2024-01-15T06:26:32.893358Z",
     "iopub.status.busy": "2024-01-15T06:26:32.892915Z",
     "iopub.status.idle": "2024-01-15T06:26:32.904379Z",
     "shell.execute_reply": "2024-01-15T06:26:32.903318Z"
    },
    "id": "dLT6a5HGJZEe",
    "papermill": {
     "duration": 0.024929,
     "end_time": "2024-01-15T06:26:32.906842",
     "exception": false,
     "start_time": "2024-01-15T06:26:32.881913",
     "status": "completed"
    },
    "tags": []
   },
   "outputs": [],
   "source": [
    "class replayBuffer:\n",
    "  def __init__(self,maxSize,stateDim):\n",
    "    self.state=np.zeros((maxSize,stateDim))\n",
    "    self.action=np.zeros(maxSize,dtype= np.int8)\n",
    "    self.reward=np.zeros(maxSize)\n",
    "    self.done=np.zeros(maxSize,)\n",
    "    self.nextState=np.zeros((maxSize,stateDim))\n",
    "    self.maxSize=maxSize\n",
    "    self.curser=0\n",
    "    self.size=0\n",
    "\n",
    "  def save(self,state,action,reward,nextState,done):\n",
    "    self.state[self.curser]=state\n",
    "    self.action[self.curser]=action\n",
    "    self.reward[self.curser]=reward\n",
    "    self.nextState[self.curser]=nextState\n",
    "    self.done[self.curser]=done\n",
    "    self.curser=(self.curser+1)%self.maxSize\n",
    "    if self.size<self.maxSize:\n",
    "      self.size+=1\n",
    "\n",
    "  def sample(self,batchSize):\n",
    "    batchSize=min(self.size,batchSize-1)\n",
    "    indexes=np.random.choice([i for i in range(self.size-1)],batchSize)\n",
    "    return self.state[indexes],self.action[indexes],self.reward[indexes],self.nextState[indexes],self.done[indexes]\n"
   ]
  },
  {
   "cell_type": "code",
   "execution_count": 5,
   "id": "952bd115",
   "metadata": {
    "execution": {
     "iopub.execute_input": "2024-01-15T06:26:32.927911Z",
     "iopub.status.busy": "2024-01-15T06:26:32.927513Z",
     "iopub.status.idle": "2024-01-15T06:26:33.218542Z",
     "shell.execute_reply": "2024-01-15T06:26:33.217470Z"
    },
    "id": "Y37LHqC2RQEs",
    "papermill": {
     "duration": 0.30491,
     "end_time": "2024-01-15T06:26:33.221326",
     "exception": false,
     "start_time": "2024-01-15T06:26:32.916416",
     "status": "completed"
    },
    "tags": []
   },
   "outputs": [],
   "source": [
    "class Agent:\n",
    "  def __init__(self,stateShape,actionShape,exploreRate,exploreRateDecay,minimumExploreRate,gamma,copyNetsCycle):\n",
    "      self.gamma=gamma\n",
    "      self.exploreRate=exploreRate\n",
    "      self.exploreRateDecay=exploreRateDecay\n",
    "      self.minimumExploreRate=minimumExploreRate\n",
    "      self.actionShape=actionShape\n",
    "      self.memory=replayBuffer(1000000,stateShape)\n",
    "      self.model=self.buildModel(stateShape,actionShape)\n",
    "      self.model.compile(optimizer='Adam',loss='mse')\n",
    "      self.tModel=self.buildModel(stateShape,actionShape)\n",
    "      self.tModel.compile(optimizer='Adam',loss='mse')\n",
    "      self.learnThreshold=0\n",
    "      self.copyNetsCycle=copyNetsCycle\n",
    "\n",
    "  def buildModel(self,input,output):\n",
    "    inputLayer=keras.Input(shape=(input,))\n",
    "    layer=Dense(256,activation='relu')(inputLayer)\n",
    "    layer=Dense(256,activation='relu')(layer)\n",
    "    outputLayer=Dense(output)(layer)\n",
    "    model=keras.Model(inputs=inputLayer,outputs=outputLayer)\n",
    "    model.compile(optimizer='Adam',loss='mse')\n",
    "    return model\n",
    "\n",
    "  def getAction(self,state,evaluation_mode=False):\n",
    "    q=self.model(np.expand_dims(state,axis=0))[0].numpy()\n",
    "    if np.random.random()<=self.exploreRate and (not(evaluation_mode)):\n",
    "      return np.random.choice([i for i in range(env.action_space.n)])\n",
    "    else:\n",
    "      return np.argmax(q)\n",
    "\n",
    "  def exploreDecay(self):\n",
    "      self.exploreRate=max(self.exploreRate*self.exploreRateDecay,self.minimumExploreRate)\n",
    "\n",
    "  def saveModel(self,modelName=\"DoubleDQN_LunarLanderV2.h\"):\n",
    "      self.model.save_weights(f\"{modelName}\")\n",
    "\n",
    "  def loadModel(self,modelName=\"DoubleDQN_LunarLanderV2.h\"):\n",
    "      self.model.load_weights(f\"{modelName}\")\n",
    "      self.tModel.set_weights(self.model.get_weights())\n",
    "\n",
    "  def learn(self,batchSize=64):\n",
    "    if self.memory.size>batchSize:\n",
    "      states,actions,rewards,nextStates,done=self.memory.sample(batchSize)\n",
    "      qState=self.model(states).numpy()\n",
    "      qNextState=self.model(nextStates).numpy()\n",
    "      qNextStateTarget=self.tModel(nextStates).numpy()\n",
    "      maxActions=np.argmax(qNextState,axis=1)\n",
    "      batchIndex = np.arange(batchSize-1, dtype=np.int32)\n",
    "      qState[batchIndex,actions]=(rewards+(self.gamma*qNextStateTarget[batchIndex,maxActions.astype(int)]*(1-done)))\n",
    "      _=self.model.fit(x=states,y=qState,verbose=0)\n",
    "      self.learnThreshold+=1\n",
    "      self.exploreDecay()\n",
    "      if(self.learnThreshold%self.copyNetsCycle)==0:\n",
    "        self.tModel.set_weights(self.model.get_weights())\n",
    "        self.saveModel()\n",
    "        self.learnThreshold=0\n",
    "agent=Agent(stateShape=env.observation_space.shape[0],actionShape=env.action_space.n\\\n",
    "            ,exploreRate=0.01,exploreRateDecay=0.99,minimumExploreRate=0.01,gamma=0.99,copyNetsCycle=100)"
   ]
  },
  {
   "cell_type": "code",
   "execution_count": 6,
   "id": "b287c10a",
   "metadata": {
    "execution": {
     "iopub.execute_input": "2024-01-15T06:26:33.242895Z",
     "iopub.status.busy": "2024-01-15T06:26:33.242507Z",
     "iopub.status.idle": "2024-01-15T06:26:33.351742Z",
     "shell.execute_reply": "2024-01-15T06:26:33.350564Z"
    },
    "id": "M3fwkBPoSXHb",
    "papermill": {
     "duration": 0.12366,
     "end_time": "2024-01-15T06:26:33.354535",
     "exception": false,
     "start_time": "2024-01-15T06:26:33.230875",
     "status": "completed"
    },
    "tags": []
   },
   "outputs": [],
   "source": [
    "agent=Agent(stateShape=env.observation_space.shape[0],actionShape=env.action_space.n\\\n",
    "            ,exploreRate=1.0,exploreRateDecay=0.9995,minimumExploreRate=0.01,gamma=0.99,copyNetsCycle=100)\n",
    "# agent.loadModel(\"DoubleDQN_LunarLanderV2.h\")"
   ]
  },
  {
   "cell_type": "code",
   "execution_count": 7,
   "id": "ef2c9fae",
   "metadata": {
    "execution": {
     "iopub.execute_input": "2024-01-15T06:26:33.375820Z",
     "iopub.status.busy": "2024-01-15T06:26:33.375362Z",
     "iopub.status.idle": "2024-01-15T08:54:05.123529Z",
     "shell.execute_reply": "2024-01-15T08:54:05.122300Z"
    },
    "id": "Ld9e0nIucmo_",
    "outputId": "49864d7f-efe5-43e7-e857-48165b58a2b9",
    "papermill": {
     "duration": 8851.875638,
     "end_time": "2024-01-15T08:54:05.239965",
     "exception": false,
     "start_time": "2024-01-15T06:26:33.364327",
     "status": "completed"
    },
    "tags": []
   },
   "outputs": [
    {
     "name": "stderr",
     "output_type": "stream",
     "text": [
      "/opt/conda/lib/python3.10/site-packages/gym/utils/passive_env_checker.py:233: DeprecationWarning: `np.bool8` is a deprecated alias for `np.bool_`.  (Deprecated NumPy 1.24)\n",
      "  if not isinstance(terminated, (bool, np.bool8)):\n"
     ]
    },
    {
     "name": "stdout",
     "output_type": "stream",
     "text": [
      "episode: 2   reward: -123.4838284048032  avg so far:-123.4838284048032 exploreRate:0.9860940917766235\n",
      "episode: 3   reward: -120.2480775877887  avg so far:-121.86595299629596 exploreRate:0.9333105749632893\n",
      "episode: 4   reward: -124.38843377713812  avg so far:-122.70677992324335 exploreRate:0.8985016297353923\n",
      "episode: 5   reward: -172.6867510698475  avg so far:-135.20177270989439 exploreRate:0.8542431659050345\n",
      "episode: 6   reward: -185.0293336390434  avg so far:-145.1672848957242 exploreRate:0.821971943634938\n",
      "episode: 7   reward: -37.67185613154821  avg so far:-127.25138010169486 exploreRate:0.7948853455740398\n",
      "episode: 8   reward: -268.06423176214395  avg so far:-147.36750176747333 exploreRate:0.7561088752427627\n",
      "episode: 9   reward: -425.7797816503208  avg so far:-182.16903675282924 exploreRate:0.717786647345383\n",
      "episode: 10   reward: -11.2537898917019  avg so far:-163.17845376825954 exploreRate:0.6834545255907595\n",
      "episode: 11   reward: -238.72555770217554  avg so far:-170.73316416165113 exploreRate:0.6484902655231009\n",
      "episode: 12   reward: -301.5535697860296  avg so far:-182.62592830932192 exploreRate:0.6025246707069989\n",
      "episode: 13   reward: -120.77281332623825  avg so far:-177.4715020607316 exploreRate:0.582378225659823\n",
      "episode: 14   reward: -119.89580741154116  avg so far:-173.04260247233236 exploreRate:0.5470851615600282\n",
      "episode: 15   reward: -372.0865336932594  avg so far:-187.26002613096998 exploreRate:0.510089893972876\n",
      "episode: 16   reward: -93.45911570357939  avg so far:-181.00663210247728 exploreRate:0.48496384592188013\n",
      "episode: 17   reward: -35.09151153467246  avg so far:-171.88693706698947 exploreRate:0.45762946982477415\n",
      "episode: 18   reward: -80.14800461689539  avg so far:-166.49052927580746 exploreRate:0.42668341995630865\n",
      "episode: 19   reward: -314.54025339957724  avg so far:-174.71551394935022 exploreRate:0.39406759337370495\n",
      "episode: 20   reward: -118.19994869634078  avg so far:-171.74101051498133 exploreRate:0.37353401519915735\n",
      "episode: 21   reward: -116.24634455781487  avg so far:-168.966277217123 exploreRate:0.35054643911827926\n",
      "episode: 22   reward: -82.73810805575839  avg so far:-164.8601739237247 exploreRate:0.3274961128836704\n",
      "episode: 23   reward: -64.89910345705493  avg so far:-160.31648890251242 exploreRate:0.30626766148829976\n",
      "episode: 24   reward: -92.52296798330724  avg so far:-157.3689445147209 exploreRate:0.28299795565300107\n",
      "episode: 25   reward: -64.2411211811071  avg so far:-153.488618542487 exploreRate:0.26544924862125363\n",
      "episode: 26   reward: -49.69368793715303  avg so far:-149.33682131827362 exploreRate:0.24824270402236964\n",
      "episode: 27   reward: -81.74180480107557  avg so far:-146.7370129906891 exploreRate:0.23331545165791032\n",
      "episode: 28   reward: 19.978629408119318  avg so far:-140.562359568511 exploreRate:0.2093200192862765\n",
      "episode: 29   reward: -105.79809762224113  avg so far:-139.32077878471566 exploreRate:0.19565392171799403\n",
      "episode: 30   reward: -52.19845779691747  avg so far:-136.31656081961916 exploreRate:0.16772217330870298\n",
      "episode: 31   reward: -74.80626993435051  avg so far:-134.2662177901102 exploreRate:0.14464346723516094\n",
      "episode: 32   reward: -49.99014180543845  avg so far:-131.54763469383047 exploreRate:0.12612047569284585\n",
      "episode: 33   reward: -74.09642389466256  avg so far:-129.75228435635645 exploreRate:0.10581515136579583\n",
      "episode: 34   reward: -63.25459392612083  avg so far:-127.7372028281675 exploreRate:0.0968023682492183\n",
      "episode: 35   reward: -111.5082942302834  avg so far:-127.25988198705326 exploreRate:0.08715125746578377\n",
      "episode: 36   reward: -21.55929648606306  avg so far:-124.23986525845355 exploreRate:0.08142059044946617\n",
      "episode: 37   reward: 17.415706373455663  avg so far:-120.3049882686783 exploreRate:0.0663256650993032\n",
      "episode: 38   reward: -13.633420152562465  avg so far:-117.42197291418867 exploreRate:0.05882382252580734\n",
      "episode: 39   reward: -53.95772668203037  avg so far:-115.75186117123715 exploreRate:0.05277406008946195\n",
      "episode: 40   reward: -18.807254372609236  avg so far:-113.26610202255438 exploreRate:0.04775075008886719\n",
      "episode: 41   reward: -90.1435829441037  avg so far:-112.68803904559311 exploreRate:0.044056576776103695\n",
      "episode: 42   reward: -344.58048658440794  avg so far:-118.34395240019836 exploreRate:0.0371488198889033\n",
      "episode: 43   reward: -143.4658351600295  avg so far:-118.94209246590862 exploreRate:0.035090054747437864\n",
      "episode: 44   reward: -34.86553444391481  avg so far:-116.98682367469947 exploreRate:0.03250515260355337\n",
      "episode: 45   reward: -33.83159474433364  avg so far:-115.09693210810023 exploreRate:0.03068838482755771\n",
      "episode: 46   reward: -15.02435242730786  avg so far:-112.87309700408264 exploreRate:0.028130727419394437\n",
      "episode: 47   reward: -63.5600690831217  avg so far:-111.80107465797478 exploreRate:0.026518635876378482\n",
      "episode: 48   reward: 15.586223248135681  avg so far:-109.09070661741924 exploreRate:0.02477489199529718\n",
      "episode: 49   reward: -43.31236160001143  avg so far:-107.72032442955657 exploreRate:0.023507454683176096\n",
      "episode: 50   reward: 5.090893789615464  avg so far:-105.41805466998163 exploreRate:0.022071823407932747\n",
      "episode: 51   reward: 2.6476389620282106  avg so far:-103.25674079734142 exploreRate:0.020703149341900956\n",
      "episode: 52   reward: 15.230328233738462  avg so far:-100.93346493398691 exploreRate:0.018920827951510052\n",
      "episode: 53   reward: -30.042970973491222  avg so far:-99.57018620397737 exploreRate:0.01747451339040307\n",
      "episode: 54   reward: -40.21244703906416  avg so far:-98.45022886124316 exploreRate:0.010597502922393745\n",
      "episode: 55   reward: -60.26020356540108  avg so far:-97.74300617057942 exploreRate:0.01\n",
      "episode: 56   reward: -229.1775756189617  avg so far:-100.13272561509547 exploreRate:0.01\n",
      "episode: 57   reward: -124.18460070220631  avg so far:-100.56222338450814 exploreRate:0.01\n",
      "episode: 58   reward: -132.32633617418344  avg so far:-101.11948852116912 exploreRate:0.01\n",
      "episode: 59   reward: -2.6926712781100406  avg so far:-99.42247443077154 exploreRate:0.01\n",
      "episode: 60   reward: -127.66049807723057  avg so far:-99.90108500105052 exploreRate:0.01\n",
      "episode: 61   reward: -52.15468270479044  avg so far:-99.10531162944618 exploreRate:0.01\n",
      "episode: 62   reward: -247.4750980113139  avg so far:-101.5376032094768 exploreRate:0.01\n",
      "episode: 63   reward: -88.40214517307751  avg so far:-101.32574098308326 exploreRate:0.01\n",
      "episode: 64   reward: -144.72454798438207  avg so far:-102.01461093548484 exploreRate:0.01\n",
      "episode: 65   reward: -162.36282009341164  avg so far:-102.95755170357745 exploreRate:0.01\n",
      "episode: 66   reward: -241.54922095640123  avg so far:-105.08973123054396 exploreRate:0.01\n",
      "episode: 67   reward: -132.91530760243324  avg so far:-105.51133087254229 exploreRate:0.01\n",
      "episode: 68   reward: -117.53966627859563  avg so far:-105.69085826666247 exploreRate:0.01\n",
      "episode: 69   reward: -113.82848094858642  avg so far:-105.81052918845548 exploreRate:0.01\n",
      "episode: 70   reward: -75.45749534832099  avg so far:-105.37063014729411 exploreRate:0.01\n",
      "episode: 71   reward: -201.9707178576109  avg so far:-106.75063140029863 exploreRate:0.01\n",
      "episode: 72   reward: -125.84534751789522  avg so far:-107.01957106392675 exploreRate:0.01\n",
      "episode: 73   reward: 146.21845925656942  avg so far:-103.5023761983643 exploreRate:0.01\n",
      "episode: 74   reward: -72.3793011776562  avg so far:-103.07603270492994 exploreRate:0.01\n",
      "episode: 75   reward: -51.74926894528299  avg so far:-102.38242778925904 exploreRate:0.01\n",
      "episode: 76   reward: 135.06297173539136  avg so far:-99.21648912893038 exploreRate:0.01\n",
      "episode: 77   reward: 93.9429292345178  avg so far:-96.67491783467447 exploreRate:0.01\n",
      "episode: 78   reward: -26.27937796599307  avg so far:-95.76069004417212 exploreRate:0.01\n",
      "episode: 79   reward: 223.86527249263636  avg so far:-91.66292129370022 exploreRate:0.01\n",
      "episode: 80   reward: 2.7618457448884612  avg so far:-90.46767107802188 exploreRate:0.01\n",
      "episode: 81   reward: -114.37936354501174  avg so far:-90.76656723385926 exploreRate:0.01\n",
      "episode: 82   reward: -4.965413173904286  avg so far:-89.70729372694623 exploreRate:0.01\n",
      "episode: 83   reward: 158.71869069253864  avg so far:-86.67770855109886 exploreRate:0.01\n",
      "episode: 84   reward: 179.82488709775214  avg so far:-83.46683390472715 exploreRate:0.01\n",
      "episode: 85   reward: -98.27096885519394  avg so far:-83.64307360651843 exploreRate:0.01\n",
      "episode: 86   reward: -48.58030069210426  avg so far:-83.23057039576061 exploreRate:0.01\n",
      "episode: 87   reward: -93.11430788989612  avg so far:-83.34549757592498 exploreRate:0.01\n",
      "episode: 88   reward: -67.88553032133538  avg so far:-83.16779680288371 exploreRate:0.01\n",
      "episode: 89   reward: 226.97088341654666  avg so far:-79.643493618572 exploreRate:0.01\n",
      "episode: 90   reward: -38.37155376780055  avg so far:-79.17976395732738 exploreRate:0.01\n",
      "episode: 91   reward: 222.41985785632707  avg so far:-75.82865704828677 exploreRate:0.01\n",
      "episode: 92   reward: -114.47854830394733  avg so far:-76.25338112801931 exploreRate:0.01\n",
      "episode: 93   reward: -102.34688684383043  avg so far:-76.5370061901477 exploreRate:0.01\n",
      "episode: 94   reward: -78.43013325382164  avg so far:-76.55736239513344 exploreRate:0.01\n",
      "episode: 95   reward: -57.36324728630183  avg so far:-76.35316968120969 exploreRate:0.01\n",
      "episode: 96   reward: -108.2988989947929  avg so far:-76.68944051608952 exploreRate:0.01\n",
      "episode: 97   reward: 24.63757233901933  avg so far:-75.6339507988488 exploreRate:0.01\n",
      "episode: 98   reward: -56.51819178492001  avg so far:-75.43688111829283 exploreRate:0.01\n",
      "episode: 99   reward: -95.59611355176675  avg so far:-75.64258757169563 exploreRate:0.01\n",
      "episode: 100   reward: -48.1395787626832  avg so far:-75.36477940190763 exploreRate:0.01\n",
      "episode: 101   reward: -158.56379114280878  avg so far:-76.19676951931663 exploreRate:0.01\n",
      "episode: 102   reward: 3.8384166714230616  avg so far:-75.4043419332697 exploreRate:0.01\n",
      "episode: 103   reward: -73.48217446295344  avg so far:-75.38549715414895 exploreRate:0.01\n",
      "episode: 104   reward: 205.57720318751095  avg so far:-72.65770394694837 exploreRate:0.01\n",
      "episode: 105   reward: -336.93459489380353  avg so far:-75.19882789836043 exploreRate:0.01\n",
      "episode: 106   reward: 229.78209717153396  avg so far:-72.29424765959955 exploreRate:0.01\n",
      "episode: 107   reward: -77.51533604138265  avg so far:-72.34350321037108 exploreRate:0.01\n",
      "episode: 108   reward: -71.89027911755697  avg so far:-72.3392674711859 exploreRate:0.01\n",
      "episode: 109   reward: 9.393330383748093  avg so far:-71.58248415771429 exploreRate:0.01\n",
      "episode: 110   reward: 7.341496780068098  avg so far:-70.8584109381016 exploreRate:0.01\n",
      "episode: 111   reward: -157.64585323736137  avg so far:-71.6473876862767 exploreRate:0.01\n",
      "episode: 112   reward: 198.420590902853  avg so far:-69.21434283412238 exploreRate:0.01\n",
      "episode: 113   reward: 196.8990041089059  avg so far:-66.83833080784534 exploreRate:0.01\n",
      "episode: 114   reward: -77.43492946532764  avg so far:-66.93210601720358 exploreRate:0.01\n",
      "episode: 115   reward: 3.935061363606451  avg so far:-66.31046419807367 exploreRate:0.01\n",
      "episode: 116   reward: -29.80371069665881  avg so far:-65.99301416762658 exploreRate:0.01\n",
      "episode: 117   reward: -51.81737308409937  avg so far:-65.87081036518238 exploreRate:0.01\n",
      "episode: 118   reward: -335.40806568936665  avg so far:-68.17454759017541 exploreRate:0.01\n",
      "episode: 119   reward: -15.657469559774675  avg so far:-67.72948760686693 exploreRate:0.01\n",
      "episode: 120   reward: 275.90033920472126  avg so far:-64.8418420034082 exploreRate:0.01\n",
      "episode: 121   reward: -8.106385112121075  avg so far:-64.36904652931415 exploreRate:0.01\n",
      "episode: 122   reward: 216.76025006153472  avg so far:-62.045663912860846 exploreRate:0.01\n",
      "episode: 123   reward: -1.4695334393046693  avg so far:-61.54913825324153 exploreRate:0.01\n",
      "episode: 124   reward: -43.09710161369794  avg so far:-61.39912169519646 exploreRate:0.01\n",
      "episode: 125   reward: -37.324038191650274  avg so far:-61.20496779597432 exploreRate:0.01\n",
      "episode: 126   reward: -69.47906154805904  avg so far:-61.271160545990995 exploreRate:0.01\n",
      "episode: 127   reward: 267.52066787368915  avg so far:-58.66170159027924 exploreRate:0.01\n",
      "episode: 128   reward: -46.66153241536894  avg so far:-58.56721206921696 exploreRate:0.01\n",
      "episode: 129   reward: -47.41841036086162  avg so far:-58.48011205587043 exploreRate:0.01\n",
      "episode: 130   reward: 249.02664068538203  avg so far:-56.09633877880646 exploreRate:0.01\n",
      "episode: 131   reward: 34.847613492433624  avg so far:-55.39676991518153 exploreRate:0.01\n",
      "episode: 132   reward: 249.52656293018734  avg so far:-53.06911088582757 exploreRate:0.01\n",
      "episode: 133   reward: -404.07223866339547  avg so far:-55.72822549020308 exploreRate:0.01\n",
      "episode: 134   reward: -28.56523260464428  avg so far:-55.52399246098835 exploreRate:0.01\n",
      "episode: 135   reward: 218.48126621603146  avg so far:-53.47917709772701 exploreRate:0.01\n",
      "episode: 136   reward: -275.136384106125  avg so far:-55.121082334826255 exploreRate:0.01\n",
      "episode: 137   reward: -112.95062299301904  avg so far:-55.546299545548266 exploreRate:0.01\n",
      "episode: 138   reward: 7.831569389439409  avg so far:-55.08368736354105 exploreRate:0.01\n",
      "episode: 139   reward: -19.76979524588242  avg so far:-54.82778959457251 exploreRate:0.01\n",
      "episode: 140   reward: -596.9429072142426  avg so far:-58.72789835442625 exploreRate:0.01\n",
      "episode: 141   reward: -373.91560164250524  avg so far:-60.97923909219825 exploreRate:0.01\n",
      "episode: 142   reward: -561.6197271346612  avg so far:-64.52988085136465 exploreRate:0.01\n",
      "episode: 143   reward: -103.58509614997791  avg so far:-64.80491757881967 exploreRate:0.01\n",
      "episode: 144   reward: -222.8742601187646  avg so far:-65.91029759658153 exploreRate:0.01\n",
      "episode: 145   reward: -681.0385860006248  avg so far:-70.1820218216096 exploreRate:0.01\n",
      "episode: 146   reward: -72.1566940587703  avg so far:-70.1956402508314 exploreRate:0.01\n",
      "episode: 147   reward: -29.79129292294074  avg so far:-69.91889814584584 exploreRate:0.01\n",
      "episode: 148   reward: 201.13615130871852  avg so far:-68.07498624479439 exploreRate:0.01\n",
      "episode: 149   reward: -414.46013950073075  avg so far:-70.41542646949667 exploreRate:0.01\n",
      "episode: 150   reward: -320.3842190682818  avg so far:-72.09306937284423 exploreRate:0.01\n",
      "episode: 151   reward: 200.36070766421315  avg so far:-70.27671085926384 exploreRate:0.01\n",
      "episode: 152   reward: -65.94109425162843  avg so far:-70.24799816649804 exploreRate:0.01\n",
      "episode: 153   reward: -100.50807329279463  avg so far:-70.4470776081184 exploreRate:0.01\n",
      "episode: 154   reward: -52.71018235337198  avg so far:-70.33115018815275 exploreRate:0.01\n",
      "episode: 155   reward: -70.7745098032415  avg so far:-70.33402914669229 exploreRate:0.01\n",
      "episode: 156   reward: -53.956772930756216  avg so far:-70.22836942917012 exploreRate:0.01\n",
      "episode: 157   reward: 224.01605538334638  avg so far:-68.34218721883347 exploreRate:0.01\n",
      "episode: 158   reward: 208.2362241631032  avg so far:-66.58054128646444 exploreRate:0.01\n",
      "episode: 159   reward: 136.88240890826702  avg so far:-65.29280109535856 exploreRate:0.01\n",
      "episode: 160   reward: -5.739446117453227  avg so far:-64.9182516929818 exploreRate:0.01\n",
      "episode: 161   reward: -324.10801296854004  avg so far:-66.53818770095403 exploreRate:0.01\n",
      "episode: 162   reward: -81.8440701377666  avg so far:-66.63325529372926 exploreRate:0.01\n",
      "episode: 163   reward: 212.05408233346049  avg so far:-64.91296308615401 exploreRate:0.01\n",
      "episode: 164   reward: 267.9580520187974  avg so far:-62.87080961925246 exploreRate:0.01\n",
      "episode: 165   reward: -55.041190962239625  avg so far:-62.82306804207556 exploreRate:0.01\n",
      "episode: 166   reward: 13.237372789318613  avg so far:-62.36209567340044 exploreRate:0.01\n",
      "episode: 167   reward: 216.9954926433739  avg so far:-60.679218635347574 exploreRate:0.01\n",
      "episode: 168   reward: -55.65583621453549  avg so far:-60.649138501091215 exploreRate:0.01\n",
      "episode: 169   reward: 162.912944523963  avg so far:-59.31841181641827 exploreRate:0.01\n",
      "episode: 170   reward: 254.753032344092  avg so far:-57.46000090422591 exploreRate:0.01\n",
      "episode: 171   reward: -75.02932149243166  avg so far:-57.56334984886241 exploreRate:0.01\n",
      "episode: 172   reward: -282.9065350059629  avg so far:-58.8811462532899 exploreRate:0.01\n",
      "episode: 173   reward: 213.71724183625787  avg so far:-57.296271903932066 exploreRate:0.01\n",
      "episode: 174   reward: 266.55773808438295  avg so far:-55.424283406889785 exploreRate:0.01\n",
      "episode: 175   reward: 225.42922792967155  avg so far:-53.81018276702449 exploreRate:0.01\n",
      "episode: 176   reward: 192.76370385777662  avg so far:-52.401189129168486 exploreRate:0.01\n",
      "episode: 177   reward: 104.21345336244012  avg so far:-51.511333205920714 exploreRate:0.01\n",
      "episode: 178   reward: 29.91544104689573  avg so far:-51.05129493330593 exploreRate:0.01\n",
      "episode: 179   reward: 257.127358374307  avg so far:-49.31995418438675 exploreRate:0.01\n",
      "episode: 180   reward: 276.42144259947366  avg so far:-47.50016984481211 exploreRate:0.01\n",
      "episode: 181   reward: 257.76834759652206  avg so far:-45.804233636804696 exploreRate:0.01\n",
      "episode: 182   reward: 31.16572628903474  avg so far:-45.37898523942437 exploreRate:0.01\n",
      "episode: 183   reward: 225.32582594584682  avg so far:-43.89159616697782 exploreRate:0.01\n",
      "episode: 184   reward: -98.01051817014667  avg so far:-44.187327981202785 exploreRate:0.01\n",
      "episode: 185   reward: 274.5143616356618  avg so far:-42.45525358111113 exploreRate:0.01\n",
      "episode: 186   reward: -136.17144422171037  avg so far:-42.96182758457383 exploreRate:0.01\n",
      "episode: 187   reward: 276.21540464602595  avg so far:-41.245820959678134 exploreRate:0.01\n",
      "episode: 188   reward: 245.19628848502418  avg so far:-39.71404497334282 exploreRate:0.01\n",
      "episode: 189   reward: 243.07391947810862  avg so far:-38.20985367306914 exploreRate:0.01\n",
      "episode: 190   reward: 250.69775723264772  avg so far:-36.681241975155295 exploreRate:0.01\n",
      "episode: 191   reward: 169.66571897320824  avg so far:-35.59520533858496 exploreRate:0.01\n",
      "episode: 192   reward: -11.558316915126696  avg so far:-35.46935775521607 exploreRate:0.01\n",
      "episode: 193   reward: -38.487251198601015  avg so far:-35.4850759502337 exploreRate:0.01\n",
      "episode: 194   reward: 261.6131314367452  avg so far:-33.945707000042106 exploreRate:0.01\n",
      "episode: 195   reward: 88.68414597562632  avg so far:-33.31359435583763 exploreRate:0.01\n",
      "episode: 196   reward: 246.26444312937312  avg so far:-31.879860830272445 exploreRate:0.01\n",
      "episode: 197   reward: 251.92505409186438  avg so far:-30.431876570465622 exploreRate:0.01\n",
      "episode: 198   reward: 231.71571436577486  avg so far:-29.101178139317195 exploreRate:0.01\n",
      "episode: 199   reward: 272.2123657171065  avg so far:-27.57939256428475 exploreRate:0.01\n",
      "episode: 200   reward: 222.4710808984072  avg so far:-26.32285752175866 exploreRate:0.01\n"
     ]
    }
   ],
   "source": [
    "averageRewards=[]\n",
    "totalRewards=[]\n",
    "for i in range(1,200):\n",
    "  done = False\n",
    "  truncuated = False\n",
    "  state,_=env.reset()\n",
    "  rewards=0\n",
    "  while (not done) and (not truncuated):\n",
    "    action=agent.getAction(state)\n",
    "    nextState,reward,done,truncuated,_=env.step(action)\n",
    "    agent.memory.save(state,action,reward,nextState,int(done))\n",
    "    rewards+=reward\n",
    "    state=nextState\n",
    "    agent.learn(batchSize=64)\n",
    "  totalRewards.append(rewards)\n",
    "  averageRewards.append(sum(totalRewards)/len(totalRewards))\n",
    "  print(f\"episode: {i+1}   reward: {rewards}  avg so far:{averageRewards[-1]} exploreRate:{agent.exploreRate}\")"
   ]
  },
  {
   "cell_type": "code",
   "execution_count": 8,
   "id": "c484b686",
   "metadata": {
    "execution": {
     "iopub.execute_input": "2024-01-15T08:54:05.302356Z",
     "iopub.status.busy": "2024-01-15T08:54:05.301870Z",
     "iopub.status.idle": "2024-01-15T08:54:05.953590Z",
     "shell.execute_reply": "2024-01-15T08:54:05.952182Z"
    },
    "id": "rFBZ-TCb8m48",
    "papermill": {
     "duration": 0.687277,
     "end_time": "2024-01-15T08:54:05.956635",
     "exception": false,
     "start_time": "2024-01-15T08:54:05.269358",
     "status": "completed"
    },
    "tags": []
   },
   "outputs": [
    {
     "data": {
      "image/png": "[encoded data removed]",
      "text/plain": [
       "<Figure size 640x480 with 1 Axes>"
      ]
     },
     "metadata": {},
     "output_type": "display_data"
    }
   ],
   "source": [
    "plt.title(f'Total Rewards')\n",
    "# plt.yscale('symlog')\n",
    "plt.plot(totalRewards)\n",
    "plt.savefig(\"Total Rewards\",dpi=200)\n"
   ]
  },
  {
   "cell_type": "code",
   "execution_count": 9,
   "id": "cf22c9c8",
   "metadata": {
    "execution": {
     "iopub.execute_input": "2024-01-15T08:54:06.017757Z",
     "iopub.status.busy": "2024-01-15T08:54:06.017341Z",
     "iopub.status.idle": "2024-01-15T08:54:06.623485Z",
     "shell.execute_reply": "2024-01-15T08:54:06.622583Z"
    },
    "papermill": {
     "duration": 0.639388,
     "end_time": "2024-01-15T08:54:06.625964",
     "exception": false,
     "start_time": "2024-01-15T08:54:05.986576",
     "status": "completed"
    },
    "tags": []
   },
   "outputs": [
    {
     "data": {
      "image/png": "[encoded data removed]",
      "text/plain": [
       "<Figure size 640x480 with 1 Axes>"
      ]
     },
     "metadata": {},
     "output_type": "display_data"
    }
   ],
   "source": [
    "plt.clf()\n",
    "plt.title(f'Average Rewards')\n",
    "# plt.yscale('symlog')\n",
    "plt.plot(averageRewards)\n",
    "plt.savefig(\"Average Rewards\",dpi=200)"
   ]
  },
  {
   "cell_type": "code",
   "execution_count": 10,
   "id": "6fc1de48",
   "metadata": {
    "execution": {
     "iopub.execute_input": "2024-01-15T08:54:06.687231Z",
     "iopub.status.busy": "2024-01-15T08:54:06.686746Z",
     "iopub.status.idle": "2024-01-15T08:54:44.383064Z",
     "shell.execute_reply": "2024-01-15T08:54:44.381961Z"
    },
    "papermill": {
     "duration": 37.730569,
     "end_time": "2024-01-15T08:54:44.386130",
     "exception": false,
     "start_time": "2024-01-15T08:54:06.655561",
     "status": "completed"
    },
    "tags": []
   },
   "outputs": [
    {
     "name": "stdout",
     "output_type": "stream",
     "text": [
      " Test episode: 1   gained reward: 256.3287448846416\n",
      " Test episode: 2   gained reward: -266.5255463715048\n",
      " Test episode: 3   gained reward: -83.38799896225918\n",
      " Test episode: 4   gained reward: -209.25251056503032\n",
      " Test episode: 5   gained reward: 248.78689041237715\n",
      " Test episode: 6   gained reward: 237.58942444329242\n",
      " Test episode: 7   gained reward: 205.72654972013942\n",
      " Test episode: 8   gained reward: 131.55612561734586\n",
      " Test episode: 9   gained reward: 177.84647690540885\n",
      " Test episode: 10   gained reward: 266.44505495238855\n",
      " Test episode: 11   gained reward: 199.5909098097983\n",
      " Test episode: 12   gained reward: 262.34798168296544\n",
      " Test episode: 13   gained reward: 247.7073683864242\n",
      " Test episode: 14   gained reward: 227.58019588952845\n",
      " Test episode: 15   gained reward: -269.1541025698533\n",
      " Test episode: 16   gained reward: 261.7617897090562\n",
      " Test episode: 17   gained reward: -10.381268442657055\n",
      " Test episode: 18   gained reward: 283.84203770769\n",
      " Test episode: 19   gained reward: 210.27934990423626\n",
      " Test episode: 20   gained reward: 261.44985496030625\n",
      "average of evaluation rewards: 132.0068664037147\n"
     ]
    }
   ],
   "source": [
    "# test loop for 10 diffrent episodeds\n",
    "sum_evaluation_rewards=0\n",
    "for i in range(0,20):\n",
    "  done = False\n",
    "  truncuated = False\n",
    "  state,_=env.reset()\n",
    "  rewards=0\n",
    "  while (not done) and (not truncuated):\n",
    "    action=agent.getAction(state,True)\n",
    "    nextState,reward,done,truncuated,_=env.step(action)\n",
    "    rewards+=reward\n",
    "    state=nextState\n",
    "    # no learning we want to test the model\n",
    "  print(f\" Test episode: {i+1}   gained reward: {rewards}\")\n",
    "  sum_evaluation_rewards+=rewards\n",
    "print(f\"average of evaluation rewards: {sum_evaluation_rewards/20}\")"
   ]
  }
 ],
 "metadata": {
  "colab": {
   "provenance": []
  },
  "kaggle": {
   "accelerator": "none",
   "dataSources": [],
   "dockerImageVersionId": 30635,
   "isGpuEnabled": false,
   "isInternetEnabled": true,
   "language": "python",
   "sourceType": "notebook"
  },
  "kernelspec": {
   "display_name": "Python 3",
   "language": "python",
   "name": "python3"
  },
  "language_info": {
   "codemirror_mode": {
    "name": "ipython",
    "version": 3
   },
   "file_extension": ".py",
   "mimetype": "text/x-python",
   "name": "python",
   "nbconvert_exporter": "python",
   "pygments_lexer": "ipython3",
   "version": "3.10.12"
  },
  "papermill": {
   "default_parameters": {},
   "duration": 9074.860975,
   "end_time": "2024-01-15T08:54:49.639046",
   "environment_variables": {},
   "exception": null,
   "input_path": "__notebook__.ipynb",
   "output_path": "__notebook__.ipynb",
   "parameters": {},
   "start_time": "2024-01-15T06:23:34.778071",
   "version": "2.4.0"
  }
 },
 "nbformat": 4,
 "nbformat_minor": 5
}
